{
  "nbformat": 4,
  "nbformat_minor": 0,
  "metadata": {
    "colab": {
      "provenance": []
    },
    "kernelspec": {
      "name": "python3",
      "display_name": "Python 3"
    },
    "language_info": {
      "name": "python"
    },
    "accelerator": "GPU",
    "gpuClass": "standard"
  },
  "cells": [
    {
      "cell_type": "markdown",
      "source": [
        "# Installation"
      ],
      "metadata": {
        "id": "OjAlYgid2Dvp"
      }
    },
    {
      "cell_type": "code",
      "execution_count": null,
      "metadata": {
        "id": "TK_tx5id0JQL"
      },
      "outputs": [],
      "source": [
        "!git clone https://github.com/liaorongfan/DeepPersonality.git"
      ]
    },
    {
      "cell_type": "code",
      "source": [
        "import os\n",
        "os.chdir(\"/content/DeepPersonality\")\n",
        "!pip install -r requirements.txt"
      ],
      "metadata": {
        "id": "JlpW33tT13ZB"
      },
      "execution_count": null,
      "outputs": []
    },
    {
      "cell_type": "markdown",
      "source": [
        "# Prepare data"
      ],
      "metadata": {
        "id": "cHY5oevg-n1q"
      }
    },
    {
      "cell_type": "code",
      "source": [
        "!pwd\n",
        "!gdown 1eANtFzA75Mqv01nW45exfauAIMLNO70J --output ChaLearn2016_tiny_processed.zip"
      ],
      "metadata": {
        "colab": {
          "base_uri": "https://localhost:8080/"
        },
        "id": "6_dGRKvP2jX9",
        "outputId": "c3547039-467f-4797-9fcc-fb5fad4e3986"
      },
      "execution_count": 3,
      "outputs": [
        {
          "output_type": "stream",
          "name": "stdout",
          "text": [
            "/content/DeepPersonality\n",
            "Downloading...\n",
            "From: https://drive.google.com/uc?id=1eANtFzA75Mqv01nW45exfauAIMLNO70J\n",
            "To: /content/DeepPersonality/ChaLearn2016_tiny_processed.zip\n",
            "100% 1.59G/1.59G [00:08<00:00, 193MB/s]\n"
          ]
        }
      ]
    },
    {
      "cell_type": "code",
      "source": [
        "!unzip ChaLearn2016_tiny_processed.zip -d datasets"
      ],
      "metadata": {
        "id": "8UOaCgsP2qY7"
      },
      "execution_count": null,
      "outputs": []
    },
    {
      "cell_type": "markdown",
      "source": [
        "# Train your own model\n",
        "If you have designed your own model and want to conduct an experiment on it. Base on the DeepPersonality code base, there are only two steps need to be bone. \n",
        "1. Register your model\n",
        "2. Modify default configration"
      ],
      "metadata": {
        "id": "Zt2qnAXr_DR0"
      }
    },
    {
      "cell_type": "markdown",
      "source": [
        "## Register your model \n",
        "\n",
        "The designed model can be `registered` by a `decorater` named `NETWORK_REGISTRY`, shown as below. \n",
        ">To acturally run the following demo model, you should create a python script `xx_net.py` and copy the code snap into it. And then `import` the it in `__init__.py` file.\n",
        "\n",
        "For the demonstration VGG model, it is copied into a file named `demo_model.py` under directory `dpcv/modeling/networks`, and imported in file `dpcv/modeling/networks/__init__.py`"
      ],
      "metadata": {
        "id": "_sdxO8XdCzd-"
      }
    },
    {
      "cell_type": "code",
      "source": [
        "# dpcv/modeling/networks\n",
        "# demo_model.py\n",
        "import torch\n",
        "import torchvision.models as models\n",
        "from dpcv.modeling.networks.build import NETWORK_REGISTRY\n",
        "\n",
        "\n",
        "@NETWORK_REGISTRY.register()\n",
        "def demo_model(args=None):\n",
        "    model = models.vgg16(num_classes=5)\n",
        "    model = model.to(\n",
        "        device=torch.device(\"cuda\" if torch.cuda.is_available() else \"cpu\")\n",
        "    )\n",
        "    return model\n"
      ],
      "metadata": {
        "id": "VxnwB3wJ28W5"
      },
      "execution_count": null,
      "outputs": []
    },
    {
      "cell_type": "code",
      "source": [
        "# dpcv/modeling/networks/__init__.py\n",
        "import dpcv.modeling.networks.demo_model"
      ],
      "metadata": {
        "id": "V3IByn-e98bY"
      },
      "execution_count": null,
      "outputs": []
    },
    {
      "cell_type": "markdown",
      "source": [
        "## Modify default configration"
      ],
      "metadata": {
        "id": "OQ-Mlnwdcjcu"
      }
    },
    {
      "cell_type": "markdown",
      "source": [
        "There are different `data_loader` and `modal_trainer` to meet the requirements from different model inputs. Take the demo experiments we used for example, it employ bimodal_renet18 network whch takes audio and visual data as input. While the vgg model only takes visual data as input, we should change the `data_loader` and `modal_trainer` as follows."
      ],
      "metadata": {
        "id": "Yd7LKMLLc6D-"
      }
    },
    {
      "cell_type": "code",
      "source": [
        "!python script/run_exp.py \\\n",
        "    -c /content/DeepPersonality/config/demo/bimodal_resnet18.yaml \\\n",
        "    --set MODEL.NAME demo_model\\\n",
        "    DATA_LOADER.NAME single_frame_data_loader \\\n",
        "    TRAIN.TRAINER ImageModalTrainer \\\n",
        "    TRAIN.OUTPUT_DIR results/demo_model"
      ],
      "metadata": {
        "id": "SOyOKWdD23AJ"
      },
      "execution_count": null,
      "outputs": []
    },
    {
      "cell_type": "markdown",
      "source": [
        "\n",
        "And of course we can write those configration into a corresponding `yaml` config file, shown as below. \n",
        "```\n",
        "# config/demo/add_user_model_vgg.yaml\n",
        "DATA:\n",
        "  ROOT: \"datasets\"\n",
        "  TRAIN_IMG_DATA: \"ChaLearn2016_tiny/train_data\"\n",
        "  VALID_IMG_DATA: \"ChaLearn2016_tiny/valid_data\"\n",
        "  TEST_IMG_DATA: \"ChaLearn2016_tiny/test_data\"\n",
        "  TRAIN_AUD_DATA: \"ChaLearn2016_tiny/voice_data/voice_librosa/train_data\"\n",
        "  VALID_AUD_DATA: \"ChaLearn2016_tiny/voice_data/voice_librosa/valid_data\"\n",
        "  TEST_AUD_DATA: \"ChaLearn2016_tiny/voice_data/voice_librosa/test_data\"\n",
        "  TRAIN_LABEL_DATA: \"ChaLearn2016_tiny/annotation/annotation_training.pkl\"\n",
        "  VALID_LABEL_DATA: \"ChaLearn2016_tiny/annotation/annotation_validation.pkl\"\n",
        "  TEST_LABEL_DATA: \"ChaLearn2016_tiny/annotation/annotation_test.pkl\"\n",
        "DATA_LOADER:\n",
        "  NAME: \"single_frame_data_loader\"\n",
        "  TRANSFORM: \"standard_frame_transform\"\n",
        "  TRAIN_BATCH_SIZE: 8\n",
        "  VALID_BATCH_SIZE: 4\n",
        "  NUM_WORKERS: 0\n",
        "MODEL:\n",
        "  NAME: \"demo_model\"\n",
        "LOSS:\n",
        "  NAME: \"mean_square_error\"\n",
        "SOLVER:\n",
        "  NAME: \"sgd\"\n",
        "  SCHEDULER: \"multi_step_scale\"\n",
        "  LR_INIT: 0.001\n",
        "  WEIGHT_DECAY: 0.0005\n",
        "  MOMENTUM: 0.9\n",
        "  MILESTONE: [100, 200]\n",
        "TRAIN:\n",
        "  TRAINER: \"ImageModalTrainer\"\n",
        "  MAX_EPOCH: 30\n",
        "  OUTPUT_DIR: \"results/demo/vgg16\"\n",
        "  ```\n",
        "  > To run the config file, create it in the code repo first. "
      ],
      "metadata": {
        "id": "OUtheLKZfARf"
      }
    },
    {
      "cell_type": "code",
      "source": [
        "!python script/run_exp.py -c config/demo/add_user_model_vgg.yaml"
      ],
      "metadata": {
        "colab": {
          "base_uri": "https://localhost:8080/"
        },
        "id": "JJwmJEZRfkZZ",
        "outputId": "19a29466-b714-4c6e-fbed-fc4a4f92b41c"
      },
      "execution_count": 6,
      "outputs": [
        {
          "output_type": "stream",
          "name": "stdout",
          "text": [
            "Valid: Epoch[021/030] Train Mean_Acc: 86.45% Valid Mean_Acc:88.42% OCEAN_ACC:[0.8922451  0.87088394 0.88151866 0.8941389  0.8822897 ]\n",
            "\n",
            "INFO:log.log:Valid: Epoch[021/030] Train Mean_Acc: 86.45% Valid Mean_Acc:88.42% OCEAN_ACC:[0.8922451  0.87088394 0.88151866 0.8941389  0.8822897 ]\n",
            "\n",
            "Training: learning rate:0.001\n",
            "INFO:log.log:Training: learning rate:0.001\n",
            "Valid: Epoch[022/030] Train Mean_Acc: 85.92% Valid Mean_Acc:88.64% OCEAN_ACC:[0.9040103 0.8766871 0.8838394 0.8911801 0.8765133]\n",
            "\n",
            "INFO:log.log:Valid: Epoch[022/030] Train Mean_Acc: 85.92% Valid Mean_Acc:88.64% OCEAN_ACC:[0.9040103 0.8766871 0.8838394 0.8911801 0.8765133]\n",
            "\n",
            "Training: learning rate:0.001\n",
            "INFO:log.log:Training: learning rate:0.001\n",
            "Valid: Epoch[023/030] Train Mean_Acc: 86.63% Valid Mean_Acc:87.34% OCEAN_ACC:[0.89718133 0.86010647 0.86875945 0.8755515  0.865557  ]\n",
            "\n",
            "INFO:log.log:Valid: Epoch[023/030] Train Mean_Acc: 86.63% Valid Mean_Acc:87.34% OCEAN_ACC:[0.89718133 0.86010647 0.86875945 0.8755515  0.865557  ]\n",
            "\n",
            "Training: learning rate:0.001\n",
            "INFO:log.log:Training: learning rate:0.001\n",
            "Valid: Epoch[024/030] Train Mean_Acc: 86.24% Valid Mean_Acc:88.23% OCEAN_ACC:[0.8983269  0.871214   0.87719125 0.88826233 0.87636733]\n",
            "\n",
            "INFO:log.log:Valid: Epoch[024/030] Train Mean_Acc: 86.24% Valid Mean_Acc:88.23% OCEAN_ACC:[0.8983269  0.871214   0.87719125 0.88826233 0.87636733]\n",
            "\n",
            "Training: learning rate:0.001\n",
            "INFO:log.log:Training: learning rate:0.001\n",
            "Valid: Epoch[025/030] Train Mean_Acc: 86.23% Valid Mean_Acc:87.07% OCEAN_ACC:[0.89261484 0.85741156 0.8659312  0.8731988  0.8645627 ]\n",
            "\n",
            "INFO:log.log:Valid: Epoch[025/030] Train Mean_Acc: 86.23% Valid Mean_Acc:87.07% OCEAN_ACC:[0.89261484 0.85741156 0.8659312  0.8731988  0.8645627 ]\n",
            "\n",
            "Training: learning rate:0.001\n",
            "INFO:log.log:Training: learning rate:0.001\n",
            "Valid: Epoch[026/030] Train Mean_Acc: 86.98% Valid Mean_Acc:88.05% OCEAN_ACC:[0.9039521  0.8676689  0.8748622  0.8835587  0.87230855]\n",
            "\n",
            "INFO:log.log:Valid: Epoch[026/030] Train Mean_Acc: 86.98% Valid Mean_Acc:88.05% OCEAN_ACC:[0.9039521  0.8676689  0.8748622  0.8835587  0.87230855]\n",
            "\n",
            "Training: learning rate:0.001\n",
            "INFO:log.log:Training: learning rate:0.001\n",
            "Valid: Epoch[027/030] Train Mean_Acc: 87.00% Valid Mean_Acc:88.44% OCEAN_ACC:[0.89211863 0.86859465 0.8832121  0.8915963  0.8863366 ]\n",
            "\n",
            "INFO:log.log:Valid: Epoch[027/030] Train Mean_Acc: 87.00% Valid Mean_Acc:88.44% OCEAN_ACC:[0.89211863 0.86859465 0.8832121  0.8915963  0.8863366 ]\n",
            "\n",
            "Training: learning rate:0.001\n",
            "INFO:log.log:Training: learning rate:0.001\n",
            "Valid: Epoch[028/030] Train Mean_Acc: 87.57% Valid Mean_Acc:88.08% OCEAN_ACC:[0.90806437 0.872982   0.87774587 0.8757674  0.8695178 ]\n",
            "\n",
            "INFO:log.log:Valid: Epoch[028/030] Train Mean_Acc: 87.57% Valid Mean_Acc:88.08% OCEAN_ACC:[0.90806437 0.872982   0.87774587 0.8757674  0.8695178 ]\n",
            "\n",
            "Training: learning rate:0.001\n",
            "INFO:log.log:Training: learning rate:0.001\n",
            "Valid: Epoch[029/030] Train Mean_Acc: 87.17% Valid Mean_Acc:87.92% OCEAN_ACC:[0.883441   0.86773115 0.8752454  0.8878608  0.8816362 ]\n",
            "\n",
            "INFO:log.log:Valid: Epoch[029/030] Train Mean_Acc: 87.17% Valid Mean_Acc:87.92% OCEAN_ACC:[0.883441   0.86773115 0.8752454  0.8878608  0.8816362 ]\n",
            "\n",
            "Training: learning rate:0.001\n",
            "INFO:log.log:Training: learning rate:0.001\n",
            "Valid: Epoch[030/030] Train Mean_Acc: 86.87% Valid Mean_Acc:87.55% OCEAN_ACC:[0.89870435 0.864111   0.8750262  0.8759957  0.8634917 ]\n",
            "\n",
            "INFO:log.log:Valid: Epoch[030/030] Train Mean_Acc: 86.87% Valid Mean_Acc:87.55% OCEAN_ACC:[0.89870435 0.864111   0.8750262  0.8759957  0.8634917 ]\n",
            "\n",
            "11-10_17-11 done, best acc: 0.8937475085258484 in :1\n",
            "INFO:log.log:11-10_17-11 done, best acc: 0.8937475085258484 in :1\n",
            "Test only mode\n",
            "INFO:log.log:Test only mode\n",
            "test with model results/demo/vgg16/11-10_17-10/checkpoint_1.pkl\n",
            "INFO:log.log:test with model results/demo/vgg16/11-10_17-10/checkpoint_1.pkl\n",
            "100% 3/3 [00:00<00:00,  8.82it/s]\n",
            "mse: {'O': 0.0225, 'C': 0.0228, 'E': 0.0256, 'A': 0.0306, 'N': 0.0395} mean: 0.028200000524520874\n",
            "INFO:log.log:mse: {'O': 0.0225, 'C': 0.0228, 'E': 0.0256, 'A': 0.0306, 'N': 0.0395} mean: 0.028200000524520874\n",
            "acc: {'O': 0.8688, 'C': 0.8758, 'E': 0.8706, 'A': 0.8484, 'N': 0.8367} mean: 0.8601\n",
            "INFO:log.log:acc: {'O': 0.8688, 'C': 0.8758, 'E': 0.8706, 'A': 0.8484, 'N': 0.8367} mean: 0.8601\n",
            "pcc: {'O': -0.0207, 'C': 0.0534, 'E': -0.2868, 'A': -0.2245, 'N': -0.2453} mean: -0.1448\n",
            "INFO:log.log:pcc: {'O': -0.0207, 'C': 0.0534, 'E': -0.2868, 'A': -0.2245, 'N': -0.2453} mean: -0.1448\n",
            "ccc: {'O': -0.019, 'C': 0.0419, 'E': -0.2507, 'A': -0.2042, 'N': -0.1927} mean: -0.125\n",
            "INFO:log.log:ccc: {'O': -0.019, 'C': 0.0419, 'E': -0.2507, 'A': -0.2042, 'N': -0.1927} mean: -0.125\n"
          ]
        }
      ]
    }
  ]
}